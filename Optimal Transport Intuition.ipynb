{
 "cells": [
  {
   "cell_type": "code",
   "execution_count": 2,
   "id": "straight-smoke",
   "metadata": {},
   "outputs": [],
   "source": [
    "import numpy as np\n",
    "from matplotlib import pyplot as plt\n",
    "from scipy.stats import norm\n",
    "from matplotlib import colors\n",
    "from matplotlib import figure\n",
    "from scipy.stats import beta\n",
    "%matplotlib inline"
   ]
  },
  {
   "cell_type": "code",
   "execution_count": 3,
   "id": "ee4d66e9",
   "metadata": {},
   "outputs": [],
   "source": [
    "#number of feature vectors\n",
    "B = 10\n",
    "#number of prototype vectors\n",
    "K = 5\n",
    "\n",
    "r = np.ones(K)\n",
    "r = r / sum(r)\n",
    "\n",
    "c=np.ones(B)\n",
    "c = c / sum(c)"
   ]
  },
  {
   "cell_type": "code",
   "execution_count": 4,
   "id": "bc72e4d7",
   "metadata": {},
   "outputs": [
    {
     "name": "stdout",
     "output_type": "stream",
     "text": [
      "[[0.02 0.02 0.02 0.02 0.02 0.02 0.02 0.02 0.02 0.02]\n",
      " [0.02 0.02 0.02 0.02 0.02 0.02 0.02 0.02 0.02 0.02]\n",
      " [0.02 0.02 0.02 0.02 0.02 0.02 0.02 0.02 0.02 0.02]\n",
      " [0.02 0.02 0.02 0.02 0.02 0.02 0.02 0.02 0.02 0.02]\n",
      " [0.02 0.02 0.02 0.02 0.02 0.02 0.02 0.02 0.02 0.02]]\n"
     ]
    }
   ],
   "source": [
    "#homogeneous transport matrix\n",
    "T = np.outer(r,c)\n",
    "print(T)"
   ]
  },
  {
   "cell_type": "code",
   "execution_count": 5,
   "id": "quick-volunteer",
   "metadata": {},
   "outputs": [],
   "source": [
    "# initialize random transport matrix for sinkhorn algorithm\n",
    "T = np.random.rand(len(r),len(c))"
   ]
  },
  {
   "cell_type": "code",
   "execution_count": 6,
   "id": "a985d5dc",
   "metadata": {},
   "outputs": [
    {
     "data": {
      "text/plain": [
       "array([[0.85811131, 0.61379765, 0.49025016, 0.52191159, 0.24614216,\n",
       "        0.30585309, 0.8223099 , 0.47519138, 0.9336838 , 0.02363101],\n",
       "       [0.6405536 , 0.18651301, 0.77235808, 0.15534244, 0.31954659,\n",
       "        0.1826595 , 0.89073203, 0.75504167, 0.46652758, 0.82141732],\n",
       "       [0.55643289, 0.70646399, 0.53431879, 0.03424573, 0.6414344 ,\n",
       "        0.44132813, 0.71844648, 0.91856574, 0.02957355, 0.15221458],\n",
       "       [0.55468908, 0.50182646, 0.23106301, 0.76109525, 0.18633066,\n",
       "        0.81269111, 0.21338563, 0.16703053, 0.54497014, 0.37669505],\n",
       "       [0.81659194, 0.70021634, 0.86246964, 0.5691852 , 0.11749088,\n",
       "        0.66587736, 0.57127586, 0.54655544, 0.12349224, 0.40655904]])"
      ]
     },
     "execution_count": 6,
     "metadata": {},
     "output_type": "execute_result"
    }
   ],
   "source": [
    "T"
   ]
  },
  {
   "cell_type": "markdown",
   "id": "1c31ab00",
   "metadata": {},
   "source": [
    "# Sinkhorn algorithm from https://michielstock.github.io/posts/2017/2017-11-5-OptimalTransport/"
   ]
  },
  {
   "cell_type": "code",
   "execution_count": 7,
   "id": "representative-pakistan",
   "metadata": {},
   "outputs": [],
   "source": [
    "def compute_optimal_transport(T, r, c, lam, epsilon=1e-8):\n",
    "    \"\"\"\n",
    "    Computes the optimal transport matrix and Slinkhorn distance using the\n",
    "    Sinkhorn-Knopp algorithm\n",
    "\n",
    "    Inputs:\n",
    "        - M : cost matrix (n x m)\n",
    "        - r : vector of marginals (n, )\n",
    "        - c : vector of marginals (m, )\n",
    "        - lam : strength of the entropic regularization\n",
    "        - epsilon : convergence parameter\n",
    "\n",
    "    Outputs:\n",
    "        - P : optimal transport matrix (n x m)\n",
    "        - dist : Sinkhorn distance\n",
    "    \"\"\"\n",
    "    n, m = T.shape\n",
    "    P = np.exp(- lam * T)\n",
    "    P /= P.sum()\n",
    "    u = np.zeros(n)\n",
    "    # normalize this matrix\n",
    "    while np.max(np.abs(u - P.sum(1))) > epsilon:\n",
    "        u = P.sum(1)\n",
    "        P *= (r / u).reshape((-1, 1))\n",
    "        P *= (c / P.sum(0)).reshape((1, -1))\n",
    "    return P, np.sum(P * T)"
   ]
  },
  {
   "cell_type": "code",
   "execution_count": 8,
   "id": "moral-snake",
   "metadata": {},
   "outputs": [],
   "source": [
    "transport_plan_10 = compute_optimal_transport(T,r,c,10)[0]\n",
    "transport_plan_7 = compute_optimal_transport(T,r,c,7)[0]\n",
    "transport_plan_4 = compute_optimal_transport(T,r,c,4)[0]\n",
    "transport_plan_1 = compute_optimal_transport(T,r,c,1)[0]"
   ]
  },
  {
   "cell_type": "code",
   "execution_count": 9,
   "id": "serious-retro",
   "metadata": {
    "scrolled": false
   },
   "outputs": [
    {
     "name": "stdout",
     "output_type": "stream",
     "text": [
      "[[0.01130251 0.01270442 0.0267458  0.0088462  0.0224518  0.03145195\n",
      "  0.00812646 0.02395198 0.00146818 0.0529507 ]\n",
      " [0.02266989 0.0589607  0.00726979 0.03220259 0.01406283 0.04325087\n",
      "  0.00519252 0.00656946 0.00799192 0.00182942]\n",
      " [0.0294267  0.00683085 0.01746618 0.04846373 0.00359795 0.01424954\n",
      "  0.00959021 0.00316679 0.04254784 0.02466021]\n",
      " [0.02088799 0.01091672 0.04141265 0.00186585 0.01565949 0.00227407\n",
      "  0.05097234 0.04511231 0.00381652 0.00708207]\n",
      " [0.01571291 0.01058731 0.00710558 0.00862163 0.04422793 0.00877358\n",
      "  0.02611846 0.02119946 0.04417553 0.01347761]]\n",
      "[0.1 0.1 0.1 0.1 0.1 0.1 0.1 0.1 0.1 0.1]\n",
      "[0.2 0.2 0.2 0.2 0.2]\n"
     ]
    }
   ],
   "source": [
    "#ensure we have a valid transport plan\n",
    "print(transport_plan_4)\n",
    "print(np.sum(transport_plan_4,axis = 0))\n",
    "print(np.sum(transport_plan_4,axis = 1))"
   ]
  },
  {
   "cell_type": "markdown",
   "id": "81166a96",
   "metadata": {},
   "source": [
    "# Visualize the effect of epsilon"
   ]
  },
  {
   "cell_type": "code",
   "execution_count": 21,
   "id": "documented-phoenix",
   "metadata": {},
   "outputs": [
    {
     "data": {
      "text/plain": [
       "Text(0.5, 1.0, 'Feature assignments')"
      ]
     },
     "execution_count": 21,
     "metadata": {},
     "output_type": "execute_result"
    },
    {
     "data": {
      "image/png": "[encoded data removed]",
      "text/plain": [
       "<Figure size 432x288 with 1 Axes>"
      ]
     },
     "metadata": {
      "needs_background": "light"
     },
     "output_type": "display_data"
    }
   ],
   "source": [
    "fig, ax = plt.subplots()\n",
    "labels = [r'$z_1$',r'$z_2$', r'$z_3$', r'$z_4$',r'$z_5$',r'$z_6$',r'$z_7$',r'$z_8$',r'$z_9$',r'$z_{10}$']\n",
    "ax.bar(labels,transport_plan_4[0,:],label=r'$c_1$')\n",
    "ax.bar(labels,transport_plan_4[1,:],bottom= transport_plan_4[0,:],label=r'$c_2$')\n",
    "ax.bar(labels,transport_plan_4[2,:],bottom= transport_plan_4[0,:]+ transport_plan_4[1,:],\n",
    "       label=r'$c_3$')\n",
    "ax.bar(labels,transport_plan_4[3,:],bottom= transport_plan_4[0,:]+ transport_plan_4[1,:]+ transport_plan_4[2,:], label=r'$c_4$')\n",
    "ax.bar(labels,transport_plan_4[4,:],bottom= transport_plan_4[0,:]+ transport_plan_4[1,:]+ transport_plan_4[2,:] + transport_plan_4[3,:], label=r'$c_5$')\n",
    "\n",
    "plt.legend()\n",
    "plt.title(\"Feature assignments\")"
   ]
  },
  {
   "cell_type": "markdown",
   "id": "6a9e2d05",
   "metadata": {},
   "source": [
    "# Alternate Visualization for different values of epsilon "
   ]
  },
  {
   "cell_type": "code",
   "execution_count": 22,
   "id": "continued-found",
   "metadata": {},
   "outputs": [],
   "source": [
    "def vis_plan(transport_plan,lam):\n",
    "    fig, ax = plt.subplots()\n",
    "    labels = [r'$z_1$',r'$z_2$', r'$z_3$', r'$z_4$',r'$z_5$',r'$z_6$',r'$z_7$',r'$z_8$',r'$z_9$',r'$z_{10}$']\n",
    "\n",
    "    ax.bar(labels,transport_plan[0,:],label=r'$c_1$')\n",
    "    ax.bar(labels,transport_plan[1,:],bottom= transport_plan[0,:],label=r'$c_2$')\n",
    "    ax.bar(labels,transport_plan[2,:],bottom= transport_plan[0,:]+ transport_plan[1,:],label=r'$c_3$')\n",
    "    ax.bar(labels,transport_plan[3,:],bottom= transport_plan[0,:]+ transport_plan[1,:]+ transport_plan[2,:], label=r'$c_4$')\n",
    "    ax.bar(labels,transport_plan[4,:],bottom= transport_plan[0,:]+ transport_plan[1,:]+ transport_plan[2,:] + transport_plan[3,:], label=r'$c_5$')\n",
    "    ax.set_title(f'Transport Plan $\\epsilon$ = {lam}')\n",
    "    ax.legend()\n",
    "    plt.show()"
   ]
  },
  {
   "cell_type": "code",
   "execution_count": 23,
   "id": "common-dominican",
   "metadata": {},
   "outputs": [
    {
     "data": {
      "image/png": "[encoded data removed]",
      "text/plain": [
       "<Figure size 432x288 with 1 Axes>"
      ]
     },
     "metadata": {
      "needs_background": "light"
     },
     "output_type": "display_data"
    },
    {
     "data": {
      "image/png": "[encoded data removed]",
      "text/plain": [
       "<Figure size 432x288 with 1 Axes>"
      ]
     },
     "metadata": {
      "needs_background": "light"
     },
     "output_type": "display_data"
    },
    {
     "data": {
      "image/png": "[encoded data removed]",
      "text/plain": [
       "<Figure size 432x288 with 1 Axes>"
      ]
     },
     "metadata": {
      "needs_background": "light"
     },
     "output_type": "display_data"
    },
    {
     "data": {
      "image/png": "[encoded data removed]",
      "text/plain": [
       "<Figure size 432x288 with 1 Axes>"
      ]
     },
     "metadata": {
      "needs_background": "light"
     },
     "output_type": "display_data"
    }
   ],
   "source": [
    "vis_plan(transport_plan_10,10)\n",
    "vis_plan(transport_plan_7,7)\n",
    "vis_plan(transport_plan_4,4)\n",
    "vis_plan(transport_plan_1,1)\n",
    "\n"
   ]
  },
  {
   "cell_type": "code",
   "execution_count": null,
   "id": "southwest-header",
   "metadata": {},
   "outputs": [],
   "source": [
    "\n",
    "fig, axs = plt.subplots(1, 2, figsize=(10,5))\n",
    "plt.figure(figsize=(9,3))\n",
    "\n",
    "x = np.linspace(-12,12, 100)\n",
    "\n",
    "\n",
    "# N is the count in each bin, bins is the lower-limit of the bin\n",
    "r = norm.rvs(1,4,size=1000)\n",
    "\n",
    "N, bins, patches = axs[0].hist(r, bins=10,density = True)\n",
    "axs[0].plot(x, norm.pdf(x,1,4),\n",
    "       'r-', lw=5, alpha=0.6, label='norm pdf')\n",
    "# We'll color code by height, but you could use any scalar\n",
    "fracs = N / N.max()\n",
    "\n",
    "# we need to normalize the data to 0..1 for the full range of the colormap\n",
    "normalize = colors.Normalize(fracs.min(), fracs.max())\n",
    "\n",
    "# Now, we'll loop through our objects and set the color of each accordingly\n",
    "for num, thispatch in zip(np.arange(len(patches)), patches):\n",
    "    if num == 5:\n",
    "        color = plt.cm.viridis(normalize(fracs[3]))\n",
    "        thispatch.set_facecolor(color)\n",
    "    else:\n",
    "        color = plt.cm.viridis(normalize(fracs[1]))\n",
    "        thispatch.set_facecolor(color)\n",
    "  \n",
    "\n",
    "# We can also normalize our inputs by the total number of counts\n",
    "r = beta.rvs(2,2,size=1000)\n",
    "\n",
    "N, bins, patches = axs[1].hist(r, bins=10, density=True)\n",
    "\n",
    "\n",
    "for num, thispatch in zip(np.arange(len(patches)), patches):\n",
    "    if num == 3:\n",
    "        color = plt.cm.viridis(normalize(fracs[3]))\n",
    "        thispatch.set_facecolor(color)\n",
    "    else:\n",
    "        color = plt.cm.viridis(normalize(fracs[1]))\n",
    "        thispatch.set_facecolor(color)\n",
    "  \n",
    "\n",
    "x = np.linspace(0,1, 100)\n",
    "axs[1].plot(x, beta.pdf(x,2,2),\n",
    "       'r-', lw=5, alpha=0.6, label='norm pdf')\n",
    "axs[1].axes.xaxis.set_visible(False)\n",
    "axs[0].axes.xaxis.set_visible(False)\n",
    "axs[1].axes.yaxis.set_visible(False)\n",
    "axs[0].axes.yaxis.set_visible(False)"
   ]
  },
  {
   "cell_type": "code",
   "execution_count": null,
   "id": "environmental-premium",
   "metadata": {},
   "outputs": [],
   "source": [
    "\n",
    "fig, axs = plt.subplots(1, 2, figsize=(10,5))\n",
    "plt.figure(figsize=(9,3))\n",
    "\n",
    "x = np.linspace(-12,12, 100)\n",
    "\n",
    "\n",
    "# N is the count in each bin, bins is the lower-limit of the bin\n",
    "r = norm.rvs(1,4,size=1000)\n",
    "\n",
    "N, bins, patches = axs[0].hist(r, bins=10,density = True)\n",
    "axs[0].plot(x, norm.pdf(x,1,4),\n",
    "       'r-', lw=5, alpha=0.6, label='norm pdf')\n",
    "# We'll color code by height, but you could use any scalar\n",
    "fracs = N / N.max()\n",
    "\n",
    "# we need to normalize the data to 0..1 for the full range of the colormap\n",
    "normalize = colors.Normalize(fracs.min(), fracs.max())\n",
    "\n",
    "# Now, we'll loop through our objects and set the color of each accordingly\n",
    "for num, thispatch in zip(np.arange(len(patches)), patches):\n",
    "    if num == 5:\n",
    "        color = plt.cm.viridis(normalize(fracs[3]))\n",
    "        thispatch.set_facecolor(color)\n",
    "    else:\n",
    "        color = plt.cm.viridis(normalize(fracs[1]))\n",
    "        thispatch.set_facecolor(color)\n",
    "  \n",
    "\n",
    "# We can also normalize our inputs by the total number of counts\n",
    "r = beta.rvs(2,2,size=1000)\n",
    "\n",
    "N, bins, patches = axs[1].hist(r, bins=10, density=True)\n",
    "\n",
    "\n",
    "for num, thispatch in zip(np.arange(len(patches)), patches):\n",
    "    if num == 0 or num == 1:\n",
    "        color = plt.cm.viridis(normalize(fracs[3]))\n",
    "        thispatch.set_facecolor(color)\n",
    "    else:\n",
    "        color = plt.cm.viridis(normalize(fracs[1]))\n",
    "        thispatch.set_facecolor(color)\n",
    "  \n",
    "\n",
    "x = np.linspace(0,1, 100)\n",
    "axs[1].plot(x, beta.pdf(x,2,2),\n",
    "       'r-', lw=5, alpha=0.6, label='norm pdf')\n",
    "axs[1].axes.xaxis.set_visible(False)\n",
    "axs[0].axes.xaxis.set_visible(False)\n",
    "axs[1].axes.yaxis.set_visible(False)\n",
    "axs[0].axes.yaxis.set_visible(False)"
   ]
  }
 ],
 "metadata": {
  "kernelspec": {
   "display_name": "Python 3",
   "language": "python",
   "name": "python3"
  },
  "language_info": {
   "codemirror_mode": {
    "name": "ipython",
    "version": 3
   },
   "file_extension": ".py",
   "mimetype": "text/x-python",
   "name": "python",
   "nbconvert_exporter": "python",
   "pygments_lexer": "ipython3",
   "version": "3.9.4"
  }
 },
 "nbformat": 4,
 "nbformat_minor": 5
}
