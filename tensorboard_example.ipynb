{
 "cells": [
  {
   "cell_type": "code",
   "execution_count": 67,
   "id": "median-baseball",
   "metadata": {},
   "outputs": [],
   "source": [
    "import torch\n",
    "import numpy as np\n",
    "import torch.nn as nn \n",
    "import torch.optim as optim \n",
    "import torch.nn.functional as F \n",
    "from torchvision import datasets, transforms\n",
    "from torch.utils.data.sampler import SubsetRandomSampler\n",
    "from tqdm import tqdm\n",
    "from matplotlib import pyplot as plt \n",
    "import argparse"
   ]
  },
  {
   "cell_type": "code",
   "execution_count": 68,
   "id": "developing-magnitude",
   "metadata": {},
   "outputs": [],
   "source": [
    "import tensorboardX"
   ]
  },
  {
   "cell_type": "code",
   "execution_count": 69,
   "id": "pleased-courage",
   "metadata": {},
   "outputs": [],
   "source": [
    "from tensorboardX import SummaryWriter\n",
    "# #this allows command line arguments to be used\n",
    "writer = SummaryWriter(\"runs/swav_test4\")"
   ]
  },
  {
   "cell_type": "code",
   "execution_count": 70,
   "id": "champion-steering",
   "metadata": {},
   "outputs": [],
   "source": [
    "#Image data needs to be normalized usually pixels are between 1 and 255, but we want them between 0 and 1\n",
    "#we also need to turn the images into Tensors, which are similar to numpy arrays, but can work with GPUs and PyTorch functions\n",
    "toTorch_normalize = transforms.Compose([transforms.ToTensor(),\n",
    "                                        transforms.Normalize((0.5,),(0.5,),)])\n",
    "#Load the data, both the train and test sets\n",
    "trainset = datasets.FashionMNIST('~/.pytorch/F_MNIST_data',download=True, train=True, transform=toTorch_normalize)\n",
    "testset = datasets.FashionMNIST('~/.pytorch/F_MNIST_data',download=True, train=False, transform=toTorch_normalize)"
   ]
  },
  {
   "cell_type": "code",
   "execution_count": 72,
   "id": "seasonal-silly",
   "metadata": {},
   "outputs": [
    {
     "name": "stderr",
     "output_type": "stream",
     "text": [
      "loss:0.0014: 100%|██████████| 188/188 [00:14<00:00, 107.81it/s]"
     ]
    }
   ],
   "source": [
    "#make a validation set\n",
    "indices = list(range(len(trainset)))\n",
    "np.random.shuffle(indices)\n",
    "#get 20% of the train set \n",
    "split = int(np.floor(0.2 * len(trainset)))\n",
    "train_sample = SubsetRandomSampler(indices[:split])\n",
    "valid_sample = SubsetRandomSampler(indices[split:])\n",
    "\n",
    "#Create Data Loader Objects\n",
    "trainloader = torch.utils.data.DataLoader(trainset, sampler=train_sample, batch_size=64)\n",
    "validloader = torch.utils.data.DataLoader(trainset, sampler=valid_sample, batch_size=64)\n",
    "testloader = torch.utils.data.DataLoader(testset, batch_size=64, shuffle=True)\n",
    "xbatch_imgs, batch_labels = next(iter(trainloader))"
   ]
  },
  {
   "cell_type": "code",
   "execution_count": 73,
   "id": "respiratory-electric",
   "metadata": {},
   "outputs": [],
   "source": [
    "device = torch.device(\"cuda:0\" if torch.cuda.is_available() else \"cpu\")"
   ]
  },
  {
   "cell_type": "code",
   "execution_count": 74,
   "id": "fundamental-store",
   "metadata": {},
   "outputs": [],
   "source": [
    "class Net(nn.Module):\n",
    "    def __init__(self):\n",
    "        super(Net, self).__init__()\n",
    "        #2D convolution layer\n",
    "        self.conv1 = nn.Conv2d(1, 4, kernel_size=3, stride=1, padding=1)\n",
    "        self.batchNorm2d = nn.BatchNorm2d(4) #number of features\n",
    "        self.relu = nn.ReLU() #activation function -> nonlinear\n",
    "        self.MaxPool = nn.MaxPool2d(kernel_size=2, stride=2)\n",
    "        self.conv2 = nn.Conv2d(4, 4, kernel_size=3, stride=1, padding=1)\n",
    "        self.linear = nn.Linear(4*7*7,10) #there are 10 classes\n",
    "\n",
    "    def forward(self, x):\n",
    "        #convolution layer\n",
    "        out = self.conv1(x)\n",
    "        #activation function and batch norm\n",
    "        activation_norm = self.relu(self.batchNorm2d(out))\n",
    "        pool = self.MaxPool(activation_norm)\n",
    "\n",
    "        out = self.conv2(pool)\n",
    "        activation_norm = self.relu(self.batchNorm2d(out))\n",
    "        pool = self.MaxPool(activation_norm)\n",
    "        x = pool.view(pool.size(0), -1)\n",
    "        probabilities = self.linear(x)\n",
    "        return probabilities\n"
   ]
  },
  {
   "cell_type": "code",
   "execution_count": 75,
   "id": "affiliated-february",
   "metadata": {},
   "outputs": [
    {
     "name": "stdout",
     "output_type": "stream",
     "text": [
      "Net(\n",
      "  (conv1): Conv2d(1, 4, kernel_size=(3, 3), stride=(1, 1), padding=(1, 1))\n",
      "  (batchNorm2d): BatchNorm2d(4, eps=1e-05, momentum=0.1, affine=True, track_running_stats=True)\n",
      "  (relu): ReLU()\n",
      "  (MaxPool): MaxPool2d(kernel_size=2, stride=2, padding=0, dilation=1, ceil_mode=False)\n",
      "  (conv2): Conv2d(4, 4, kernel_size=(3, 3), stride=(1, 1), padding=(1, 1))\n",
      "  (linear): Linear(in_features=196, out_features=10, bias=True)\n",
      ")\n"
     ]
    }
   ],
   "source": [
    "#define the model\n",
    "model = Net()\n",
    "#define the optimizer\n",
    "optimizer = optim.SGD(model.parameters(), lr=0.01, momentum=0.9)\n",
    "#define the loss function\n",
    "criterion = nn.CrossEntropyLoss()\n",
    "\n",
    "model = model.to(device)\n",
    "criterion = criterion.to(device)\n",
    "print(model)\n"
   ]
  },
  {
   "cell_type": "code",
   "execution_count": 76,
   "id": "streaming-undergraduate",
   "metadata": {},
   "outputs": [
    {
     "name": "stderr",
     "output_type": "stream",
     "text": [
      "loss:0.3099:   9%|▊         | 16/188 [00:00<00:02, 65.49it/s]"
     ]
    },
    {
     "name": "stdout",
     "output_type": "stream",
     "text": [
      "0\n"
     ]
    },
    {
     "name": "stderr",
     "output_type": "stream",
     "text": [
      "loss:0.0028:  99%|█████████▉| 187/188 [00:01<00:00, 101.49it/s]"
     ]
    },
    {
     "name": "stdout",
     "output_type": "stream",
     "text": [
      "warning: Embedding dir exists, did you set global_step for add_embedding()?\n"
     ]
    },
    {
     "name": "stderr",
     "output_type": "stream",
     "text": [
      "loss:0.0028: 100%|██████████| 188/188 [00:18<00:00, 101.49it/s]"
     ]
    }
   ],
   "source": [
    "num_epochs = 1\n",
    "mean_loss = []\n",
    "accuracy_list = []\n",
    "mean_loss_val = []\n",
    "loop = tqdm(total=num_epochs*len(trainloader), position=0)\n",
    "\n",
    "writer = SummaryWriter(\"/Users/raelynnwonnacott/Desktop/AF/runs/proj_test5\")\n",
    "\n",
    "for epoch_number in range(num_epochs):\n",
    "    print(epoch_number)\n",
    "    model = model.train()\n",
    "    epoch_loss = 0\n",
    "    #initialize lists to store embeddings and labels\n",
    "    tensor_list = []\n",
    "    label_list = []\n",
    "    #Loop through the data for training\n",
    "    for it, input in enumerate(trainloader):\n",
    "        #clear the gradients of the model parameters\n",
    "        optimizer.zero_grad()\n",
    "        #putting data on \"device\"\n",
    "        x, y = x.to(device), y.to(device)\n",
    "        model.zero_grad()\n",
    "        # pass data through the model\n",
    "        output = model(x)\n",
    "        # add features to list\n",
    "        tensor_list.append(output)\n",
    "        label_list.append(y)\n",
    "        loss = criterion(output, y)\n",
    "        loss.backward() #Compute gradients\n",
    "        epoch_loss += loss.item()\n",
    "        \n",
    "        optimizer.step() #Optimize and update the weights\n",
    "        loop.set_description('loss:{:.4f}'.format(loss.item()))\n",
    "        loop.update()\n",
    "    torch.save({\n",
    "        'epoch': epoch_number,\n",
    "        'model_state_dict': model.state_dict(),\n",
    "        'optimizer_state_dict': optimizer.state_dict(),\n",
    "        'loss': loss,},\"/Users/raelynnwonnacott/Desktop/AF/models\")\n",
    "    \n",
    "    #add embeddings\n",
    "    if epoch_number % 10 == 0:\n",
    "        writer.add_embedding(torch.cat(tensor_list),metadata = torch.cat(label_list),global_step = it)\n",
    "    \n",
    "    mean_loss.append(epoch_loss/len(trainloader))\n",
    "    \n",
    "#     accuracy = 0\n",
    "#     for batch, (x, y_truth) in enumerate(testloader):\n",
    "#         x, y_truth = x.to(device), y_truth.to(device)\n",
    "#         output = model(x)\n",
    "#         y_hat = torch.argmax(output, axis=1)\n",
    "\n",
    "#         accuracy += torch.sum(y_hat == y_truth).item()\n",
    "#         #print(accuracy)\n",
    "#     accuracy_list.append(accuracy/len(testloader))"
   ]
  }
 ],
 "metadata": {
  "kernelspec": {
   "display_name": "Python 3",
   "language": "python",
   "name": "python3"
  },
  "language_info": {
   "codemirror_mode": {
    "name": "ipython",
    "version": 3
   },
   "file_extension": ".py",
   "mimetype": "text/x-python",
   "name": "python",
   "nbconvert_exporter": "python",
   "pygments_lexer": "ipython3",
   "version": "3.7.7"
  }
 },
 "nbformat": 4,
 "nbformat_minor": 5
}
